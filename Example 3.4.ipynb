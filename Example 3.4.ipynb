{
 "cells": [
  {
   "cell_type": "code",
   "execution_count": 3,
   "metadata": {},
   "outputs": [
    {
     "name": "stdout",
     "output_type": "stream",
     "text": [
      "('The entropy is: ', 7.493, ' bits')\n"
     ]
    }
   ],
   "source": [
    "import itertools\n",
    "import numpy as np\n",
    "combinations = [\"\".join(seq) for seq in itertools.product(\"01\", repeat=9)]\n",
    "\n",
    "probabilities = [[0.2,0.8],[0.6,0.4],[0.2,0.8],[0.8,0.2],[0.2,0.8],[0.6,0.4],\n",
    "                 [0.8,0.2],[0.4,0.6],[0.4,0.6]]\n",
    "entropy = 0\n",
    "for state in combinations:\n",
    "    info = 0\n",
    "    for i, neuron in enumerate(state):\n",
    "        if i == 0:\n",
    "            if int(neuron) == 1:\n",
    "                info = probabilities[i][0]\n",
    "            else:\n",
    "                info = probabilities[i][1]\n",
    "        else:\n",
    "            if int(neuron) == 1:\n",
    "                info *= probabilities[i][0]\n",
    "            else:\n",
    "                info *= probabilities[i][1]\n",
    "    entropy += -info*np.log2(info)\n",
    "\n",
    "print(\"The entropy is: \",np.around(entropy,3),\" bits\")\n"
   ]
  },
  {
   "cell_type": "code",
   "execution_count": null,
   "metadata": {},
   "outputs": [],
   "source": []
  }
 ],
 "metadata": {
  "kernelspec": {
   "display_name": "Python 2",
   "language": "python",
   "name": "python2"
  },
  "language_info": {
   "codemirror_mode": {
    "name": "ipython",
    "version": 2
   },
   "file_extension": ".py",
   "mimetype": "text/x-python",
   "name": "python",
   "nbconvert_exporter": "python",
   "pygments_lexer": "ipython2",
   "version": "2.7.15"
  }
 },
 "nbformat": 4,
 "nbformat_minor": 2
}
