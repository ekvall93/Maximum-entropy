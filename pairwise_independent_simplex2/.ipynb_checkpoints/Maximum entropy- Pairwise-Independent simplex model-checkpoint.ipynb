{
 "cells": [
  {
   "cell_type": "markdown",
   "metadata": {},
   "source": [
    "# Pairwise-Independent simplex model"
   ]
  },
  {
   "cell_type": "markdown",
   "metadata": {},
   "source": [
    "The data is from the Blue brain microcircuit. This models only works for 2-simplices."
   ]
  },
  {
   "cell_type": "markdown",
   "metadata": {},
   "source": [
    "## Basic theory for the Pairwise-Independent simplex model"
   ]
  },
  {
   "cell_type": "markdown",
   "metadata": {},
   "source": [
    "The constraints for the model is:\n",
    "\n",
    "\\begin{equation}\n",
    "\\begin{aligned}\n",
    "\\max\\limits_{P}S(P) \\ such \\ that \\\\\n",
    "\\langle \\sigma _{i} \\rangle_{model}= \\langle \\sigma _{i} \\rangle_{data}\\\\\n",
    "\\langle \\sigma _{i}\\sigma _{j} \\rangle_{model}= \\langle \\sigma _{i}\\sigma _{j} \\rangle_{data}\\\\\n",
    "\\langle \\sigma ^{2-simplex} _{i} \\rangle_{model}= \\langle \\sigma ^{2-simplex} _{i} \\rangle_{data}\n",
    "\\end{aligned}\n",
    "\\end{equation}\n",
    "\n",
    "It's basically the additional mean activity rates for the simplecies to the Pairwise model that's new\n",
    "\n",
    "\\begin{equation}\n",
    "\\begin{aligned}\n",
    "\\max\\limits_{P}S(P) \\ such \\ that \\ \\langle \\sigma ^{2-simplex} _{i} \\rangle_{model}= \\langle \\sigma ^{2-simplex} _{i} \\rangle_{data}\n",
    "\\end{aligned}\n",
    "\\end{equation}\n",
    "\n",
    "The expectation of the 2-simplex $\\langle \\sigma ^{2-simplex} _{i} \\rangle_{data}$ composed by neurons $\\sigma _{i},\\ \\sigma _{j}$, and $\\sigma _{k}$ can be approximated to the average simplex firing rate $\\overset{-}{f_{i}}$ simplex/millisecond\n",
    "\n",
    "\\begin{equation}\n",
    "\\begin{aligned}\n",
    "\\langle \\sigma ^{2-simplex} _{i} \\rangle _{data} \\approx \\overset{-}{f_{i}}=\\frac{1}{N} \\sum _{n=1}^{N}(s _{i}^{2-simplex})^{n}\n",
    "\\end{aligned}\n",
    "\\end{equation}\n",
    "\n",
    "The expectation of the simplex $\\langle \\sigma ^{2-simplex} _{i} \\rangle_{model}$ composed by neurons $\\sigma _{i},\\ \\sigma _{j}$, and $\\sigma _{k}$ can be calculated by \n",
    "\n",
    "\\begin{equation}\n",
    "\\begin{aligned}\n",
    "\\langle \\sigma ^{2-simplex} _{i} \\rangle _{model} = \\sum _{\\textbf{s}}P_{\\textbf{h},\\textbf{J},\\mathbf{\\Psi}}(\\textbf{s})s _{i}^{2-simplex}\n",
    "\\end{aligned}\n",
    "\\end{equation}\n",
    "\n",
    "Let's apply some Lagrange multipliers  $\\boldsymbol{\\Psi}=[\\Psi _{1},\\Psi _{2},...,\\Psi _{N/3}]^{T}\\in \\mathbb{R}^{N/3}$ called simplex fields to the constraint. The mean simplex firing rate $\\boldsymbol{\\overset{-}{f}}=[\\overset{-}{f}_{1},\\overset{-}{f}_{2},...,\\overset{-}{f}_{N/3}]\\in \\mathbb{R}^{N/3}$. Here $N$ is the number of neurons considered, and if all neurons considered only belong to one simplex, then there is $N/3$ simplices\n",
    "\n",
    "\\begin{gather}\n",
    "\\sum _{\\textbf{s}}\\sum _{i}P(\\textbf{s})\\sigma ^{2-simplex}_{i}\\Psi _{i} = \\sum _{i}\\overset{-}{f_{i}}\\Psi _{i}\n",
    "\\end{gather}\n",
    "\n",
    "The optimization problem can now be constructed, and the following auxillary function is\n",
    "\n",
    "\\begin{equation}\n",
    "\\begin{aligned}\n",
    "L(P(\\textbf{s}),\\lambda _{1},\\textbf{h},\\textbf{J},\\boldsymbol{\\Psi})&=\\sum _{\\textbf{s}\\in V_{\\boldsymbol{\\sigma}}}P(\\textbf{s})ln(P(\\textbf{s}))-(1+\\lambda _{1})(\\sum _{\\textbf{s}\\in V_{\\boldsymbol{\\sigma}}}P(\\textbf{s})-1)\\\\\n",
    "&-\\sum _{i}h_{i}\\Big(\\sum _{\\textbf{s}\\in V_{\\boldsymbol{\\sigma}}}P(\\textbf{s})s_{i}- r_{i}\\Big)\\\\\n",
    "&-\\sum_{i< j} J_{ij}\\Big(\\sum _{\\textbf{s}\\in V_{\\boldsymbol{\\sigma}}}P(\\textbf{s})s_{i}s_{j} - C_{ij}\\Big)\\\\\n",
    "&-\\sum _{s ^{2-simplex}_{ijk},\\overset{-}{f_{ijk}} \\in \\mathcal{S}}\\Psi _{ijk} \\Big(\\sum _{\\textbf{s}\\in V_{\\boldsymbol{\\sigma}}}P(\\textbf{s})s _{ijk}^{2-simplex} - \\overset{-}{f_{ijk}}\\Big)\n",
    "\\end{aligned}\n",
    "\\end{equation}\n",
    "\n",
    "\n",
    "From this auxiliary function, the following probability function can be derived\n",
    "\n",
    "\n",
    "\\begin{equation}\n",
    "\\begin{aligned}\n",
    "{P}_{\\textbf{h},\\textbf{J},\\mathbf{\\Psi}}(\\textbf{s}_{1})= \\frac{1}{\\sum _{\\textbf{s}}e^{\\sum _{i< j}J_{ij}s_{i}s_{j}+\\sum _{i}h_{i}s_{i} +\\sum _{i}\\Psi _{i} s _{i}^{2-simplex}}}\\exp\\Big(\\sum _{i< j}J_{ij}s_{i}s_{j}\\\\\n",
    "+\\sum _{i}h_{i}s_{i}+\\sum _{s ^{2-simplex}_{ijk} \\in \\mathcal{S}}\\Psi _{ijk} s _{ijk}^{2-simplex} \\Big)\n",
    "\\end{aligned}\n",
    "\\end{equation}\n",
    "\n",
    "The Hamiltonian is \n",
    "\n",
    "\\begin{equation}\n",
    "\\begin{aligned}\n",
    "H_{\\textbf{h},\\textbf{J},\\mathbf{\\Psi}}(\\textbf{s}_{1})= -\\sum _{i<j}J_{ij}s_{i}s_{j}-\\sum _{i}h_{i}s_{i} -\\sum _{s ^{2-simplex}_{ijk} \\in \\mathcal{S}}\\Psi _{ijk} s _{ijk}^{2-simplex}\n",
    "\\end{aligned}\n",
    "\\end{equation}\n",
    "\n",
    "and the partition function is\n",
    "\n",
    "\n",
    "\\begin{equation}\n",
    "\\begin{aligned}\n",
    "\\textbf{N}(\\textbf{h},\\textbf{J},\\mathbf{\\Psi})= \\sum _{\\textbf{s}}e^{-H_{\\textbf{h},\\textbf{J},\\mathbf{\\Psi}}(\\textbf{s}_{1})}\n",
    "\\end{aligned}\n",
    "\\end{equation}\n",
    "\n",
    "The probability distribution could be written in the compact form \n",
    "\n",
    "\\begin{equation}\n",
    "\\begin{aligned}\n",
    "{P}_{\\textbf{h},\\textbf{J},\\mathbf{\\Psi}}(\\textbf{s}_{1})= \\frac{1}{\\textbf{N}(\\textbf{h},\\textbf{J},\\mathbf{\\Psi})}\\exp\\Big(-H_{\\textbf{h},\\textbf{J},\\mathbf{\\Psi}}(\\textbf{s}_{1})\\Big)\n",
    "\\end{aligned}\n",
    "\\end{equation}\n",
    "\n",
    "Since the probabilities fow each statistic is implausible to calcualte for large systems one have to approximate in some way. Here Gibbs sampling will be used which is a Monte Carlo Markov Chain (MCMC). From this samples will be drawn to calculate approximate all the statistics. \n",
    "\n",
    "The esscence of the algorithm is to tune the Langrange multiplies to reproduced the constrains while mazimizing the entropy. Gradient ascent method is used for these three update rules\n",
    "\n",
    "\\begin{equation}\n",
    "\\begin{aligned}\n",
    "J_{ij}^{t+1} &:= J_{ij}^{t}+\\gamma (\\langle \\sigma _{i}\\sigma _{j}  \\rangle _{data} - \\langle \\sigma _{i}\\sigma _{j} \\rangle _{model})\n",
    "\\end{aligned}\n",
    "\\end{equation}\n",
    "\n",
    "\n",
    "\\begin{equation}\n",
    "\\begin{aligned}\n",
    "h_{i}^{t+1} &:= h_{i}^{t}+\\gamma (\\langle \\sigma _{i} \\rangle _{data} - \\langle \\sigma _{i} \\rangle _{model})\n",
    "\\end{aligned}\n",
    "\\end{equation}\n",
    "\n",
    "\\begin{gather}\n",
    "\\Psi _{ijk} ^{t+1}= \\Psi _{ijk} ^{t} + \\gamma (\\langle \\sigma ^{2-simplex} _{ijk} \\rangle _{data} - \\langle \\sigma ^{2-simplex} _{ijk} \\rangle _{model}))\n",
    "\\end{gather}\n"
   ]
  },
  {
   "cell_type": "code",
   "execution_count": 2,
   "metadata": {},
   "outputs": [
    {
     "name": "stdout",
     "output_type": "stream",
     "text": [
      "(61506, 45)\n",
      "(61506, 45)\n",
      "('sim_sum', 505791)\n",
      "('n_sum', 505791)\n",
      "No testdata included\n",
      "Saving the errors\n",
      "---- INITIATE BURN-IN ----\n",
      "---- STARTING GRADIENT ASCENT ----\n",
      "('||Progress||: 1.0 %', '||Maximal error||: 0.295256', '||Time left||: 3282.83 s')\n",
      "('||Progress||: 12.0 %', '||Maximal error||: 0.114688', '||Time left||: 2304.14 s')\n",
      "('||Progress||: 23.0 %', '||Maximal error||: 0.111257', '||Time left||: 2000.19 s')\n",
      "('||Progress||: 34.0 %', '||Maximal error||: 0.111046', '||Time left||: 1613.48 s')\n",
      "('||Progress||: 44.0 %', '||Maximal error||: 0.111014', '||Time left||: 1308.66 s')\n",
      "('||Progress||: 55.0 %', '||Maximal error||: 0.111014', '||Time left||: 1144.64 s')\n",
      "('||Progress||: 66.0 %', '||Maximal error||: 0.111014', '||Time left||: 884.1 s')\n",
      "('||Progress||: 77.0 %', '||Maximal error||: 0.111014', '||Time left||: 577.34 s')\n",
      "('||Progress||: 88.0 %', '||Maximal error||: 0.111014', '||Time left||: 274.58 s')\n",
      "('||Progress||: 99.0 %', '||Maximal error||: 0.111014', '||Time left||: 0.0 s')\n",
      "('||Progress||: 100 %', '||Maximal error||: 0.111014', '||Time left||: 0.0 s')\n",
      "--- 2506.59062505 seconds ---\n"
     ]
    }
   ],
   "source": [
    "%matplotlib inline\n",
    "from fit_pairwise_independent_simplex import *\n",
    "from likelihood_pairwise_independent_simplex import *\n",
    "import numpy as np\n",
    "from get_frustration import *\n",
    "from load_data import *\n",
    "\n",
    "data = get_mat_data(experimental=True,stimulated=False)\n",
    "\n",
    "\n",
    "#BPP\n",
    "#train_s,train_n, test_s,test_n  = load_bpp_data(nr_seed=30,factor_test=0.1,split=True)\n",
    "#20 has common neurons\n",
    "#simplices, neurons = data_for_likelihood(nr_simp=30,seed=20)\n",
    "#simplices_train, neurons_train, simplices_test, neurons_test, unique_id = unique_simplex(30,seed=10,ratio=0.1)\n",
    "\n",
    "\n",
    "np.random.seed(seed=1)\n",
    "\n",
    "\n",
    "#Make sure that the number of neurons is divisible with 3.\n",
    "neural_train = data[:,1:]\n",
    "\n",
    "\n",
    "[m,n] = np.shape(neural_train);\n",
    "print(m,n)\n",
    "print(\"sim_sum\",np.sum(simplex_train))\n",
    "print(\"n_sum\",np.sum(neural_train))\n",
    "\n",
    "\n",
    "#J0 = np.zeros((n,n))\n",
    "J0 = np.random.normal(loc=0,scale=0.1,size=(n,n))\n",
    "\n",
    "learning_rate = 1\n",
    "#NB Chosse M-samples such that it can be divded equally beteen all processes.\n",
    "M_samples = m\n",
    "# Number of cores for multiprocess.\n",
    "n_jobs = 1\n",
    "\n",
    "psi = np.random.normal(loc=0,scale=0.1,size=(n/3,))\n",
    "#entropy = fit_pairwise(neural_data,simplex_data,J0,psi,learning_rate,M_samples,n_jobs,test=None,save_loss=False)\n",
    "entropy = fit_pairwise(neural_train,J0,psi,learning_rate,M_samples,n_jobs,save_loss=True)\n",
    "iter = 100\n",
    "#Recommended to have twice as many as neurons.\n",
    "gibbs_steps = 2*n\n",
    "\n",
    "verbose = str(gibbs_steps)+\"_\"+str(iter)+\"_\"+str(M_samples)+\"_\"+str(learning_rate)\n",
    "\n",
    "import time\n",
    "start_time = time.time()\n",
    "J, emp_cov ,mod_cov,samples, psi, mod_simp_mean,emp_simp_mean, train_error = entropy.fit_pairwise(iter,gibbs_steps)\n",
    "print(\"--- %s seconds ---\" % (time.time() - start_time))\n",
    "\n",
    "\n",
    "\n"
   ]
  },
  {
   "cell_type": "code",
   "execution_count": 3,
   "metadata": {},
   "outputs": [
    {
     "name": "stdout",
     "output_type": "stream",
     "text": [
      "---- INITIATE ANNEALED SAMPLING ----\n",
      "('||Progress||: 1.0 %', '||Time left||: 569.79 s')\n",
      "('||Progress||: 11.0204081633 %', '||Time left||: 250.0 s')\n",
      "('||Progress||: 21.2244897959 %', '||Time left||: 206.42 s')\n",
      "('||Progress||: 31.4285714286 %', '||Time left||: 174.45 s')\n",
      "('||Progress||: 41.6326530612 %', '||Time left||: 146.2 s')\n",
      "('||Progress||: 51.8367346939 %', '||Time left||: 119.44 s')\n",
      "('||Progress||: 62.0408163265 %', '||Time left||: 93.39 s')\n",
      "('||Progress||: 72.2448979592 %', '||Time left||: 67.83 s')\n",
      "('||Progress||: 82.4489795918 %', '||Time left||: 42.56 s')\n",
      "('||Progress||: 92.6530612245 %', '||Time left||: 17.49 s')\n",
      "('||Progress||: 102.857142857 %', '||Time left||: 2.5 s')\n",
      "4.262464025736747\n",
      "('|Negative log likelihood|', 4.262464025736747)\n",
      "('|gibbs_steps|', 90)\n",
      "('|samples|', 61506)\n",
      "('|learning_rate|', 1)\n",
      "('|iter|', 100)\n"
     ]
    }
   ],
   "source": [
    "ins = np.tril_indices(n, k=-1)\n",
    "emp_mean = np.diagonal(emp_cov).copy()\n",
    "mod_mean = np.diagonal(mod_cov).copy()\n",
    "h = np.diagonal(J).copy()\n",
    "\n",
    "under_J = J[ins].copy()\n",
    "under_emp = emp_cov[ins].copy()\n",
    "under_mod = mod_cov[ins].copy()\n",
    "eps = under_emp.flatten() - under_mod.flatten()\n",
    "\n",
    "print(\"|Negative log likelihood|\", neg_log_L_train)\n",
    "print(\"|gibbs_steps|\", gibbs_steps)\n",
    "print(\"|samples|\", M_samples)\n",
    "print(\"|learning_rate|\", learning_rate)\n",
    "print(\"|iter|\", iter)\n"
   ]
  },
  {
   "cell_type": "code",
   "execution_count": 4,
   "metadata": {},
   "outputs": [
    {
     "data": {
      "text/plain": [
       "Text(0,0.5,'Model correlations')"
      ]
     },
     "execution_count": 4,
     "metadata": {},
     "output_type": "execute_result"
    },
    {
     "data": {
      "image/png": "[encoded data removed]",
      "text/plain": [
       "<Figure size 432x432 with 3 Axes>"
      ]
     },
     "metadata": {},
     "output_type": "display_data"
    }
   ],
   "source": [
    "x,y = under_emp.flatten(), under_mod.flatten()\n",
    "# Set up the axes with gridspec\n",
    "fig = plt.figure(figsize=(6, 6))\n",
    "grid = plt.GridSpec(4, 4, hspace=0.6, wspace=1.4)\n",
    "main_ax = fig.add_subplot(grid[:-1, 1:])\n",
    "y_hist = fig.add_subplot(grid[:-1, 0], xticklabels=[], sharey=main_ax)\n",
    "x_hist = fig.add_subplot(grid[-1, 1:], yticklabels=[], sharex=main_ax)\n",
    "x_hist.hist(x, int(round(np.sqrt(np.size(x)))), histtype='stepfilled',\n",
    "            orientation='vertical', color='red')\n",
    "x_hist.invert_yaxis()\n",
    "\n",
    "y_hist.hist(y, int(round(np.sqrt(np.size(x)))), histtype='stepfilled',\n",
    "            orientation='horizontal', color='red')\n",
    "y_hist.invert_xaxis()\n",
    "\n",
    "main_ax.plot(x, y, 'ok', markersize=3, alpha=0.2,color='red')\n",
    "\n",
    "\n",
    "minimum = min(min(x),min(y))\n",
    "maximum = max(max(x),max(y))\n",
    "main_ax.plot([minimum,maximum],[minimum,maximum],'k-')\n",
    "\n",
    "\n",
    "\n",
    "main_ax.set_xlabel(\"Observed correlations\")\n",
    "main_ax.set_ylabel(\"Model correlations\")"
   ]
  },
  {
   "cell_type": "code",
   "execution_count": 6,
   "metadata": {},
   "outputs": [
    {
     "data": {
      "text/plain": [
       "Text(0,0.5,'$J_{ij}$')"
      ]
     },
     "execution_count": 6,
     "metadata": {},
     "output_type": "execute_result"
    },
    {
     "data": {
      "image/png": "[encoded data removed]",
      "text/plain": [
       "<Figure size 432x432 with 3 Axes>"
      ]
     },
     "metadata": {},
     "output_type": "display_data"
    }
   ],
   "source": [
    "x,y = under_emp.flatten(), under_J.flatten()\n",
    "# Set up the axes with gridspec\n",
    "fig = plt.figure(figsize=(6, 6))\n",
    "grid = plt.GridSpec(4, 4, hspace=0.6, wspace=1.4)\n",
    "main_ax = fig.add_subplot(grid[:-1, 1:])\n",
    "y_hist = fig.add_subplot(grid[:-1, 0], xticklabels=[], sharey=main_ax)\n",
    "x_hist = fig.add_subplot(grid[-1, 1:], yticklabels=[], sharex=main_ax)\n",
    "x_hist.hist(x, int(round(np.sqrt(np.size(x)))), histtype='stepfilled',\n",
    "            orientation='vertical', color='red')\n",
    "x_hist.invert_yaxis()\n",
    "\n",
    "y_hist.hist(y, int(round(np.sqrt(np.size(x)))), histtype='stepfilled',\n",
    "            orientation='horizontal', color='red')\n",
    "y_hist.invert_xaxis()\n",
    "\n",
    "main_ax.plot(x, y, 'ok', markersize=3, alpha=0.2,color='red')\n",
    "\n",
    "\n",
    "minimum = min(min(x),min(y))\n",
    "maximum = max(max(x),max(y))\n",
    "main_ax.plot([minimum,maximum],[minimum,maximum],'k-')\n",
    "\n",
    "\n",
    "\n",
    "main_ax.set_xlabel(\"$C_{ij}$\")\n",
    "main_ax.set_ylabel(\"$J_{ij}$\")"
   ]
  },
  {
   "cell_type": "code",
   "execution_count": 7,
   "metadata": {},
   "outputs": [
    {
     "data": {
      "text/plain": [
       "Text(0,0.5,'Model means')"
      ]
     },
     "execution_count": 7,
     "metadata": {},
     "output_type": "execute_result"
    },
    {
     "data": {
      "image/png": "[encoded data removed]",
      "text/plain": [
       "<Figure size 432x432 with 3 Axes>"
      ]
     },
     "metadata": {},
     "output_type": "display_data"
    }
   ],
   "source": [
    "x,y = emp_mean.flatten(), mod_mean.flatten()\n",
    "# Set up the axes with gridspec\n",
    "fig = plt.figure(figsize=(6, 6))\n",
    "grid = plt.GridSpec(4, 4, hspace=0.6, wspace=1.4)\n",
    "main_ax = fig.add_subplot(grid[:-1, 1:])\n",
    "y_hist = fig.add_subplot(grid[:-1, 0], xticklabels=[], sharey=main_ax)\n",
    "x_hist = fig.add_subplot(grid[-1, 1:], yticklabels=[], sharex=main_ax)\n",
    "x_hist.hist(x, int(round(np.sqrt(np.size(x)))), histtype='stepfilled',\n",
    "            orientation='vertical', color='red')\n",
    "x_hist.invert_yaxis()\n",
    "\n",
    "y_hist.hist(y, int(round(np.sqrt(np.size(x)))), histtype='stepfilled',\n",
    "            orientation='horizontal', color='red')\n",
    "y_hist.invert_xaxis()\n",
    "\n",
    "main_ax.plot(x, y, 'ok', markersize=3, alpha=0.2,color='red')\n",
    "\n",
    "\n",
    "minimum = min(min(x),min(y))\n",
    "maximum = max(max(x),max(y))\n",
    "main_ax.plot([minimum,maximum],[minimum,maximum],'k-')\n",
    "\n",
    "\n",
    "\n",
    "main_ax.set_xlabel(\"Observed means\")\n",
    "main_ax.set_ylabel(\"Model means\")\n"
   ]
  },
  {
   "cell_type": "code",
   "execution_count": 8,
   "metadata": {},
   "outputs": [
    {
     "data": {
      "text/plain": [
       "Text(0,0.5,'$h_{i}$')"
      ]
     },
     "execution_count": 8,
     "metadata": {},
     "output_type": "execute_result"
    },
    {
     "data": {
      "image/png": "[encoded data removed]",
      "text/plain": [
       "<Figure size 432x432 with 3 Axes>"
      ]
     },
     "metadata": {},
     "output_type": "display_data"
    }
   ],
   "source": [
    "x,y = emp_mean, h\n",
    "# Set up the axes with gridspec\n",
    "fig = plt.figure(figsize=(6, 6))\n",
    "grid = plt.GridSpec(4, 4, hspace=0.6, wspace=1.4)\n",
    "main_ax = fig.add_subplot(grid[:-1, 1:])\n",
    "y_hist = fig.add_subplot(grid[:-1, 0], xticklabels=[], sharey=main_ax)\n",
    "x_hist = fig.add_subplot(grid[-1, 1:], yticklabels=[], sharex=main_ax)\n",
    "x_hist.hist(x, int(round(np.sqrt(np.size(x)))), histtype='stepfilled',\n",
    "            orientation='vertical', color='red')\n",
    "x_hist.invert_yaxis()\n",
    "\n",
    "y_hist.hist(y, int(round(np.sqrt(np.size(x)))), histtype='stepfilled',\n",
    "            orientation='horizontal', color='red')\n",
    "y_hist.invert_xaxis()\n",
    "\n",
    "main_ax.plot(x, y, 'ok', markersize=3, alpha=0.2,color='red')\n",
    "\n",
    "\n",
    "main_ax.axhline(y=0,c='r')\n",
    "\n",
    "\n",
    "\n",
    "main_ax.set_xlabel(\"Observed means\")\n",
    "main_ax.set_ylabel(\"$h_{i}$\")\n"
   ]
  },
  {
   "cell_type": "code",
   "execution_count": 9,
   "metadata": {},
   "outputs": [
    {
     "data": {
      "text/plain": [
       "Text(0,0.5,'Model simplex mean')"
      ]
     },
     "execution_count": 9,
     "metadata": {},
     "output_type": "execute_result"
    },
    {
     "data": {
      "image/png": "[encoded data removed]",
      "text/plain": [
       "<Figure size 432x432 with 3 Axes>"
      ]
     },
     "metadata": {},
     "output_type": "display_data"
    }
   ],
   "source": [
    "x,y = emp_simp_mean.flatten(), mod_simp_mean.flatten()\n",
    "# Set up the axes with gridspec\n",
    "fig = plt.figure(figsize=(6, 6))\n",
    "grid = plt.GridSpec(4, 4, hspace=0.6, wspace=1.4)\n",
    "main_ax = fig.add_subplot(grid[:-1, 1:])\n",
    "y_hist = fig.add_subplot(grid[:-1, 0], xticklabels=[], sharey=main_ax)\n",
    "x_hist = fig.add_subplot(grid[-1, 1:], yticklabels=[], sharex=main_ax)\n",
    "x_hist.hist(x, int(round(np.sqrt(np.size(x)))), histtype='stepfilled',\n",
    "            orientation='vertical', color='red')\n",
    "x_hist.invert_yaxis()\n",
    "\n",
    "y_hist.hist(y, int(round(np.sqrt(np.size(x)))), histtype='stepfilled',\n",
    "            orientation='horizontal', color='red')\n",
    "y_hist.invert_xaxis()\n",
    "\n",
    "main_ax.plot(x, y, 'ok', markersize=3, alpha=0.2,color='red')\n",
    "\n",
    "\n",
    "minimum = min(min(x),min(y))\n",
    "maximum = max(max(x),max(y))\n",
    "main_ax.plot([minimum,maximum],[minimum,maximum],'k-')\n",
    "\n",
    "\n",
    "\n",
    "    \n",
    "main_ax.set_xlabel(\"Observed simplex mean\")\n",
    "main_ax.set_ylabel(\"Model simplex mean\")"
   ]
  },
  {
   "cell_type": "code",
   "execution_count": 10,
   "metadata": {},
   "outputs": [
    {
     "data": {
      "text/plain": [
       "Text(0,0.5,'Model simplex mean')"
      ]
     },
     "execution_count": 10,
     "metadata": {},
     "output_type": "execute_result"
    },
    {
     "data": {
      "image/png": "[encoded data removed]",
      "text/plain": [
       "<Figure size 432x432 with 3 Axes>"
      ]
     },
     "metadata": {},
     "output_type": "display_data"
    }
   ],
   "source": [
    "x,y = emp_simp_mean.flatten(), psi.flatten()\n",
    "# Set up the axes with gridspec\n",
    "fig = plt.figure(figsize=(6, 6))\n",
    "grid = plt.GridSpec(4, 4, hspace=0.6, wspace=1.4)\n",
    "main_ax = fig.add_subplot(grid[:-1, 1:])\n",
    "y_hist = fig.add_subplot(grid[:-1, 0], xticklabels=[], sharey=main_ax)\n",
    "x_hist = fig.add_subplot(grid[-1, 1:], yticklabels=[], sharex=main_ax)\n",
    "x_hist.hist(x, int(round(np.sqrt(np.size(x)))), histtype='stepfilled',\n",
    "            orientation='vertical', color='red')\n",
    "x_hist.invert_yaxis()\n",
    "\n",
    "y_hist.hist(y, int(round(np.sqrt(np.size(x)))), histtype='stepfilled',\n",
    "            orientation='horizontal', color='red')\n",
    "y_hist.invert_xaxis()\n",
    "\n",
    "main_ax.plot(x, y, 'ok', markersize=3, alpha=0.2,color='red')\n",
    "\n",
    "\n",
    "main_ax.axhline(y=0,c='r')\n",
    "\n",
    "main_ax.set_xlabel(\"Observed simplex mean\")\n",
    "main_ax.set_ylabel(\"Model simplex mean\")\n"
   ]
  },
  {
   "cell_type": "code",
   "execution_count": 11,
   "metadata": {},
   "outputs": [
    {
     "data": {
      "text/plain": [
       "Text(0.5,0,'Eps')"
      ]
     },
     "execution_count": 11,
     "metadata": {},
     "output_type": "execute_result"
    },
    {
     "data": {
      "image/png": "[encoded data removed]",
      "text/plain": [
       "<Figure size 432x288 with 1 Axes>"
      ]
     },
     "metadata": {},
     "output_type": "display_data"
    }
   ],
   "source": [
    "from scipy.stats import norm\n",
    "mu, std = norm.fit(eps)\n",
    "\n",
    "histogram=plt.figure()\n",
    "plt.hist(eps,bins=int(round(np.sqrt(np.size(eps)))),density=True)\n",
    "xmin, xmax = plt.xlim()\n",
    "x = np.linspace(xmin, xmax, 100)\n",
    "p = norm.pdf(x, mu, std)\n",
    "plt.plot(x, p, 'k', linewidth=2)\n",
    "plt.legend(loc='upper right')\n",
    "plt.ylabel(\"Frequency\")\n",
    "plt.xlabel(\"Eps\")"
   ]
  },
  {
   "cell_type": "code",
   "execution_count": 12,
   "metadata": {},
   "outputs": [
    {
     "data": {
      "text/plain": [
       "Text(0.5,0,'$J_{ij}$')"
      ]
     },
     "execution_count": 12,
     "metadata": {},
     "output_type": "execute_result"
    },
    {
     "data": {
      "image/png": "[encoded data removed]",
      "text/plain": [
       "<Figure size 432x288 with 1 Axes>"
      ]
     },
     "metadata": {},
     "output_type": "display_data"
    }
   ],
   "source": [
    "param = under_J.flatten()\n",
    "weights = np.ones_like(param)/float(len(param))\n",
    "plt.figure()\n",
    "plt.hist(param,bins=int(round(np.sqrt(np.size(param)))),weights=weights)\n",
    "plt.legend(loc='upper right')\n",
    "plt.ylabel(\"P($J_{ij}$)\")\n",
    "plt.xlabel(\"$J_{ij}$\")"
   ]
  },
  {
   "cell_type": "code",
   "execution_count": 13,
   "metadata": {},
   "outputs": [
    {
     "data": {
      "text/plain": [
       "Text(0.5,0,'$h_{i}$')"
      ]
     },
     "execution_count": 13,
     "metadata": {},
     "output_type": "execute_result"
    },
    {
     "data": {
      "image/png": "[encoded data removed]",
      "text/plain": [
       "<Figure size 432x288 with 1 Axes>"
      ]
     },
     "metadata": {},
     "output_type": "display_data"
    }
   ],
   "source": [
    "param = under_J.flatten()\n",
    "weights = np.ones_like(param)/float(len(param))\n",
    "plt.figure()\n",
    "plt.hist(param,bins=int(round(np.size(param)/2)),weights=weights)\n",
    "plt.legend(loc='upper right')\n",
    "plt.ylabel(\"P($h_{i}$)\")\n",
    "plt.xlabel(\"$h_{i}$\")"
   ]
  },
  {
   "cell_type": "code",
   "execution_count": 14,
   "metadata": {},
   "outputs": [
    {
     "data": {
      "text/plain": [
       "Text(0.5,0,'$\\\\Psi _{i}$')"
      ]
     },
     "execution_count": 14,
     "metadata": {},
     "output_type": "execute_result"
    },
    {
     "data": {
      "image/png": "[encoded data removed]",
      "text/plain": [
       "<Figure size 432x288 with 1 Axes>"
      ]
     },
     "metadata": {},
     "output_type": "display_data"
    }
   ],
   "source": [
    "param = psi.flatten()\n",
    "weights = np.ones_like(param)/float(len(param))\n",
    "plt.figure()\n",
    "plt.hist(param,bins=int(round(np.size(param)/2)),weights=weights)\n",
    "plt.legend(loc='upper right')\n",
    "plt.ylabel(\"P($\\Psi _{i}$)\")\n",
    "plt.xlabel(\"$\\Psi _{i}$\")"
   ]
  },
  {
   "cell_type": "code",
   "execution_count": null,
   "metadata": {
    "collapsed": true
   },
   "outputs": [],
   "source": []
  }
 ],
 "metadata": {
  "kernelspec": {
   "display_name": "Python 2",
   "language": "python",
   "name": "python2"
  },
  "language_info": {
   "codemirror_mode": {
    "name": "ipython",
    "version": 2
   },
   "file_extension": ".py",
   "mimetype": "text/x-python",
   "name": "python",
   "nbconvert_exporter": "python",
   "pygments_lexer": "ipython2",
   "version": "2.7.15"
  }
 },
 "nbformat": 4,
 "nbformat_minor": 2
}
